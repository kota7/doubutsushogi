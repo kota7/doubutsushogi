{
 "cells": [
  {
   "cell_type": "code",
   "execution_count": 1,
   "id": "f544ee8d-0d81-497d-a16e-6e48c97498c9",
   "metadata": {},
   "outputs": [],
   "source": [
    "import bz2\n",
    "import shutil\n",
    "%load_ext sql\n",
    "%config SqlMagic.autopandas=True\n",
    "\n",
    "dbfile = \"doubutsu.db\"\n",
    "bz2file = \"doubutsu.db.bz2\"\n",
    "tmpfile = \"tmp.db\""
   ]
  },
  {
   "cell_type": "code",
   "execution_count": 2,
   "id": "d3531b22-7484-477c-a337-b609ee6dbf87",
   "metadata": {},
   "outputs": [
    {
     "name": "stdout",
     "output_type": "stream",
     "text": [
      " * sqlite:///doubutsu.db\n",
      "Done.\n"
     ]
    },
    {
     "data": {
      "text/html": [
       "<div>\n",
       "<style scoped>\n",
       "    .dataframe tbody tr th:only-of-type {\n",
       "        vertical-align: middle;\n",
       "    }\n",
       "\n",
       "    .dataframe tbody tr th {\n",
       "        vertical-align: top;\n",
       "    }\n",
       "\n",
       "    .dataframe thead th {\n",
       "        text-align: right;\n",
       "    }\n",
       "</style>\n",
       "<table border=\"1\" class=\"dataframe\">\n",
       "  <thead>\n",
       "    <tr style=\"text-align: right;\">\n",
       "      <th></th>\n",
       "      <th>count(*)</th>\n",
       "    </tr>\n",
       "  </thead>\n",
       "  <tbody>\n",
       "    <tr>\n",
       "      <th>0</th>\n",
       "      <td>109179572</td>\n",
       "    </tr>\n",
       "  </tbody>\n",
       "</table>\n",
       "</div>"
      ],
      "text/plain": [
       "    count(*)\n",
       "0  109179572"
      ]
     },
     "metadata": {},
     "output_type": "display_data"
    },
    {
     "name": "stdout",
     "output_type": "stream",
     "text": [
      " * sqlite:///doubutsu.db\n",
      "Done.\n"
     ]
    },
    {
     "data": {
      "text/html": [
       "<div>\n",
       "<style scoped>\n",
       "    .dataframe tbody tr th:only-of-type {\n",
       "        vertical-align: middle;\n",
       "    }\n",
       "\n",
       "    .dataframe tbody tr th {\n",
       "        vertical-align: top;\n",
       "    }\n",
       "\n",
       "    .dataframe thead th {\n",
       "        text-align: right;\n",
       "    }\n",
       "</style>\n",
       "<table border=\"1\" class=\"dataframe\">\n",
       "  <thead>\n",
       "    <tr style=\"text-align: right;\">\n",
       "      <th></th>\n",
       "      <th>stateIndex</th>\n",
       "      <th>value</th>\n",
       "    </tr>\n",
       "  </thead>\n",
       "  <tbody>\n",
       "    <tr>\n",
       "      <th>0</th>\n",
       "      <td>316013363792</td>\n",
       "      <td>-9900</td>\n",
       "    </tr>\n",
       "    <tr>\n",
       "      <th>1</th>\n",
       "      <td>316013393076</td>\n",
       "      <td>9801</td>\n",
       "    </tr>\n",
       "    <tr>\n",
       "      <th>2</th>\n",
       "      <td>316013685916</td>\n",
       "      <td>-9703</td>\n",
       "    </tr>\n",
       "    <tr>\n",
       "      <th>3</th>\n",
       "      <td>316013715200</td>\n",
       "      <td>9801</td>\n",
       "    </tr>\n",
       "    <tr>\n",
       "      <th>4</th>\n",
       "      <td>316022214942</td>\n",
       "      <td>-9703</td>\n",
       "    </tr>\n",
       "    <tr>\n",
       "      <th>5</th>\n",
       "      <td>316022241562</td>\n",
       "      <td>9801</td>\n",
       "    </tr>\n",
       "    <tr>\n",
       "      <th>6</th>\n",
       "      <td>316022243982</td>\n",
       "      <td>-9703</td>\n",
       "    </tr>\n",
       "    <tr>\n",
       "      <th>7</th>\n",
       "      <td>316022244202</td>\n",
       "      <td>-9900</td>\n",
       "    </tr>\n",
       "    <tr>\n",
       "      <th>8</th>\n",
       "      <td>316022244222</td>\n",
       "      <td>-9703</td>\n",
       "    </tr>\n",
       "    <tr>\n",
       "      <th>9</th>\n",
       "      <td>316022244226</td>\n",
       "      <td>-9703</td>\n",
       "    </tr>\n",
       "  </tbody>\n",
       "</table>\n",
       "</div>"
      ],
      "text/plain": [
       "     stateIndex  value\n",
       "0  316013363792  -9900\n",
       "1  316013393076   9801\n",
       "2  316013685916  -9703\n",
       "3  316013715200   9801\n",
       "4  316022214942  -9703\n",
       "5  316022241562   9801\n",
       "6  316022243982  -9703\n",
       "7  316022244202  -9900\n",
       "8  316022244222  -9703\n",
       "9  316022244226  -9703"
      ]
     },
     "metadata": {},
     "output_type": "display_data"
    }
   ],
   "source": [
    "# test original db file\n",
    "%sql sqlite:///{dbfile}\n",
    "a = %sql SELECT count(*) FROM stateValues\n",
    "display(a)\n",
    "\n",
    "a = %sql SELECT * FROM stateValues LIMIT 10\n",
    "display(a)"
   ]
  },
  {
   "cell_type": "code",
   "execution_count": 5,
   "id": "3b078bf2-6b34-4142-b913-e744df0c845a",
   "metadata": {},
   "outputs": [
    {
     "name": "stdout",
     "output_type": "stream",
     "text": [
      "CPU times: user 2min 1s, sys: 823 ms, total: 2min 2s\n",
      "Wall time: 2min 3s\n"
     ]
    }
   ],
   "source": [
    "%%time\n",
    "# make bz2 db file\n",
    "with open(dbfile, \"rb\") as f, bz2.open(bz2file, \"wb\") as g:\n",
    "  shutil.copyfileobj(f, g)"
   ]
  },
  {
   "cell_type": "code",
   "execution_count": 6,
   "id": "d13bde0b-edeb-4b05-a4b7-797c981a1d34",
   "metadata": {},
   "outputs": [
    {
     "name": "stdout",
     "output_type": "stream",
     "text": [
      "CPU times: user 1min 7s, sys: 1.78 s, total: 1min 9s\n",
      "Wall time: 1min 9s\n"
     ]
    }
   ],
   "source": [
    "%%time\n",
    "# decompress to a tmp file\n",
    "with bz2.open(bz2file, \"rb\") as f, open(tmpfile, \"wb\") as g:\n",
    "  shutil.copyfileobj(f, g)"
   ]
  },
  {
   "cell_type": "code",
   "execution_count": 7,
   "id": "8a77682b-a846-4f8c-986a-d0f5e66b78a4",
   "metadata": {},
   "outputs": [
    {
     "name": "stdout",
     "output_type": "stream",
     "text": [
      "   sqlite:///doubutsu.db\n",
      " * sqlite:///tmp.db\n",
      "Done.\n"
     ]
    },
    {
     "data": {
      "text/html": [
       "<div>\n",
       "<style scoped>\n",
       "    .dataframe tbody tr th:only-of-type {\n",
       "        vertical-align: middle;\n",
       "    }\n",
       "\n",
       "    .dataframe tbody tr th {\n",
       "        vertical-align: top;\n",
       "    }\n",
       "\n",
       "    .dataframe thead th {\n",
       "        text-align: right;\n",
       "    }\n",
       "</style>\n",
       "<table border=\"1\" class=\"dataframe\">\n",
       "  <thead>\n",
       "    <tr style=\"text-align: right;\">\n",
       "      <th></th>\n",
       "      <th>count(*)</th>\n",
       "    </tr>\n",
       "  </thead>\n",
       "  <tbody>\n",
       "    <tr>\n",
       "      <th>0</th>\n",
       "      <td>109179572</td>\n",
       "    </tr>\n",
       "  </tbody>\n",
       "</table>\n",
       "</div>"
      ],
      "text/plain": [
       "    count(*)\n",
       "0  109179572"
      ]
     },
     "metadata": {},
     "output_type": "display_data"
    },
    {
     "name": "stdout",
     "output_type": "stream",
     "text": [
      "   sqlite:///doubutsu.db\n",
      " * sqlite:///tmp.db\n",
      "Done.\n"
     ]
    },
    {
     "data": {
      "text/html": [
       "<div>\n",
       "<style scoped>\n",
       "    .dataframe tbody tr th:only-of-type {\n",
       "        vertical-align: middle;\n",
       "    }\n",
       "\n",
       "    .dataframe tbody tr th {\n",
       "        vertical-align: top;\n",
       "    }\n",
       "\n",
       "    .dataframe thead th {\n",
       "        text-align: right;\n",
       "    }\n",
       "</style>\n",
       "<table border=\"1\" class=\"dataframe\">\n",
       "  <thead>\n",
       "    <tr style=\"text-align: right;\">\n",
       "      <th></th>\n",
       "      <th>stateIndex</th>\n",
       "      <th>value</th>\n",
       "    </tr>\n",
       "  </thead>\n",
       "  <tbody>\n",
       "    <tr>\n",
       "      <th>0</th>\n",
       "      <td>316013363792</td>\n",
       "      <td>-9900</td>\n",
       "    </tr>\n",
       "    <tr>\n",
       "      <th>1</th>\n",
       "      <td>316013393076</td>\n",
       "      <td>9801</td>\n",
       "    </tr>\n",
       "    <tr>\n",
       "      <th>2</th>\n",
       "      <td>316013685916</td>\n",
       "      <td>-9703</td>\n",
       "    </tr>\n",
       "    <tr>\n",
       "      <th>3</th>\n",
       "      <td>316013715200</td>\n",
       "      <td>9801</td>\n",
       "    </tr>\n",
       "    <tr>\n",
       "      <th>4</th>\n",
       "      <td>316022214942</td>\n",
       "      <td>-9703</td>\n",
       "    </tr>\n",
       "    <tr>\n",
       "      <th>5</th>\n",
       "      <td>316022241562</td>\n",
       "      <td>9801</td>\n",
       "    </tr>\n",
       "    <tr>\n",
       "      <th>6</th>\n",
       "      <td>316022243982</td>\n",
       "      <td>-9703</td>\n",
       "    </tr>\n",
       "    <tr>\n",
       "      <th>7</th>\n",
       "      <td>316022244202</td>\n",
       "      <td>-9900</td>\n",
       "    </tr>\n",
       "    <tr>\n",
       "      <th>8</th>\n",
       "      <td>316022244222</td>\n",
       "      <td>-9703</td>\n",
       "    </tr>\n",
       "    <tr>\n",
       "      <th>9</th>\n",
       "      <td>316022244226</td>\n",
       "      <td>-9703</td>\n",
       "    </tr>\n",
       "  </tbody>\n",
       "</table>\n",
       "</div>"
      ],
      "text/plain": [
       "     stateIndex  value\n",
       "0  316013363792  -9900\n",
       "1  316013393076   9801\n",
       "2  316013685916  -9703\n",
       "3  316013715200   9801\n",
       "4  316022214942  -9703\n",
       "5  316022241562   9801\n",
       "6  316022243982  -9703\n",
       "7  316022244202  -9900\n",
       "8  316022244222  -9703\n",
       "9  316022244226  -9703"
      ]
     },
     "metadata": {},
     "output_type": "display_data"
    }
   ],
   "source": [
    "# test the decompressed dbfile\n",
    "%sql sqlite:///{tmpfile}\n",
    "a = %sql SELECT count(*) FROM stateValues\n",
    "display(a)\n",
    "\n",
    "a = %sql SELECT * FROM stateValues LIMIT 10\n",
    "display(a)"
   ]
  },
  {
   "cell_type": "code",
   "execution_count": 10,
   "id": "90af5661-8941-4fa5-a6fa-5428edd55d44",
   "metadata": {},
   "outputs": [
    {
     "name": "stdout",
     "output_type": "stream",
     "text": [
      "CPU times: user 2.89 s, sys: 284 ms, total: 3.17 s\n",
      "Wall time: 3.17 s\n",
      "95e0be3cf1dae308903fbfbf5223e3c3\n"
     ]
    }
   ],
   "source": [
    "# calculate the md5 of the db file\n",
    "import hashlib\n",
    "def _get_md5(filename, blocksize=2**20):\n",
    "    # compute md5 checksum of a file\n",
    "    md5 = hashlib.md5()\n",
    "    with open(filename, \"rb\") as f:\n",
    "        while True:\n",
    "            data = f.read(blocksize)\n",
    "            if len(data) == 0:\n",
    "                break\n",
    "            md5.update(data)\n",
    "    return md5.hexdigest()\n",
    "\n",
    "%time md5 = _get_md5(dbfile)\n",
    "print(md5)\n",
    "\n",
    "# save to a text file\n",
    "md5file = dbfile + \".md5\"\n",
    "with open(md5file, \"w\") as f:\n",
    "    f.write(md5)"
   ]
  },
  {
   "cell_type": "code",
   "execution_count": 12,
   "id": "08e231d3-7d9b-4016-8242-cf0777d4fb06",
   "metadata": {},
   "outputs": [
    {
     "name": "stdout",
     "output_type": "stream",
     "text": [
      "CPU times: user 906 ms, sys: 126 ms, total: 1.03 s\n",
      "Wall time: 1.04 s\n",
      "169258d9e9d53f8fe6d17d8c94845afb\n"
     ]
    }
   ],
   "source": [
    "# calculate the md5 of the db.bz2 file\n",
    "%time md5 = _get_md5(bz2file)\n",
    "print(md5)\n",
    "\n",
    "# save to a text file\n",
    "md5file = bz2file + \".md5\"\n",
    "with open(md5file, \"w\") as f:\n",
    "    f.write(md5)"
   ]
  },
  {
   "cell_type": "code",
   "execution_count": null,
   "id": "2ef4d583-3abd-49fc-9563-36a887d81c58",
   "metadata": {},
   "outputs": [],
   "source": []
  }
 ],
 "metadata": {
  "kernelspec": {
   "display_name": "Python(sandbox)",
   "language": "python",
   "name": "python_sandbox"
  },
  "language_info": {
   "codemirror_mode": {
    "name": "ipython",
    "version": 3
   },
   "file_extension": ".py",
   "mimetype": "text/x-python",
   "name": "python",
   "nbconvert_exporter": "python",
   "pygments_lexer": "ipython3",
   "version": "3.8.10"
  }
 },
 "nbformat": 4,
 "nbformat_minor": 5
}
